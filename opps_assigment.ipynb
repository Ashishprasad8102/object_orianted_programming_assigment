{
 "cells": [
  {
   "cell_type": "code",
   "execution_count": null,
   "id": "9a91816c-dab4-4385-bc0a-15e5c8438085",
   "metadata": {},
   "outputs": [],
   "source": [
    "1>  In object-oriented programming (OOP), a class is a blueprint or a template for creating objects. It defines a\n",
    "set of attributes (data) and behaviors (methods) that an object of that class will possess. The attributes represent\n",
    "the state or characteristics of the object, while the methods define the actions or operations that the object can\n",
    "perform.\n",
    "\n",
    "An object, on the other hand, is an instance of a class. It is a specific realization of the class, with its own\n",
    "unique state and behavior. When you create an object, it has access to all the attributes and methods defined in\n",
    "its class.\n",
    "\n",
    "Let's take an example to illustrate this concept. Suppose we have a class called \"Car\" that represents the \n",
    "blueprint for creating car objects. The Car class may have attributes such as \"color,\" \"make,\" \"model,\" and\n",
    "\"year,\" and methods such as \"start,\" \"accelerate,\" and \"brake.\"\n",
    "class Car:\n",
    "    def __init__(self, color, make, model, year):\n",
    "        self.color = color\n",
    "        self.make = make\n",
    "        self.model = model\n",
    "        self.year = year\n",
    "        \n",
    "    def start(self):\n",
    "        print(\"The car is starting.\")\n",
    "        \n",
    "    def accelerate(self):\n",
    "        print(\"The car is accelerating.\")\n",
    "        \n",
    "    def brake(self):\n",
    "        print(\"The car is braking.\")\n"
   ]
  },
  {
   "cell_type": "markdown",
   "id": "0885e8c7-824d-46a6-a3d2-c353c9dada3a",
   "metadata": {},
   "source": [
    "2> The four pillars of object-oriented programming (OOP) are:\n",
    "\n",
    "1. Encapsulation: Encapsulation is the bundling of data (attributes) and methods (behaviors) into a single unit called a class. It allows the class to control access to its internal state, ensuring data integrity and hiding implementation details. Encapsulation promotes modularity and code reusability.\n",
    "\n",
    "2. Inheritance: Inheritance allows classes to inherit or acquire the properties and behaviors of other classes. It establishes a hierarchical relationship between classes, where a child class (subclass) inherits the attributes and methods of a parent class (superclass). Inheritance promotes code reuse, extensibility, and the concept of \"is-a\" relationships.\n",
    "\n",
    "3. Polymorphism: Polymorphism means having multiple forms. In OOP, polymorphism allows objects of different classes to be treated as objects of a common superclass. It allows methods with the same name to behave differently based on the object they are called upon. Polymorphism promotes flexibility, modularity, and the concept of \"one interface, multiple implementations.\"\n",
    "\n",
    "4. Abstraction: Abstraction focuses on providing essential features while hiding unnecessary details. It allows the creation of abstract classes and interfaces that define common characteristics and behaviors for subclasses to implement. Abstraction helps in managing complexity, improving maintainability, and creating well-organized code structures.\n",
    "\n",
    "These four pillars are fundamental concepts in object-oriented programming, and understanding and applying them effectively can lead to well-designed, modular, and extensible software systems."
   ]
  },
  {
   "cell_type": "code",
   "execution_count": null,
   "id": "160dd2b9-c1ea-4f20-922e-15ac6c1c2498",
   "metadata": {},
   "outputs": [],
   "source": [
    "3> The `__init__()` function is a special method in Python classes that is automatically called when an object\n",
    "is created from a class. It is used to initialize the attributes of the object. \n",
    "\n",
    "The primary purpose of the `__init__()` method is to set the initial state of the object by assigning values\n",
    "to its attributes. It takes the `self` parameter as the first argument, which refers to the object being\n",
    "created. Additional arguments can be specified to accept values that are used to initialize the object's\n",
    "attributes.\n",
    "\n",
    "Here's an example to demonstrate the usage of the `__init__()` method:\n",
    "\n",
    "```python\n",
    "class Person:\n",
    "    def __init__(self, name, age):\n",
    "        self.name = name\n",
    "        self.age = age\n",
    "        \n",
    "    def introduce(self):\n",
    "        print(f\"My name is {self.name} and I am {self.age} years old.\")\n",
    "```\n",
    "\n",
    "In the above example, we have a `Person` class with two attributes: `name` and `age`. The `__init__()`\n",
    "method is defined to initialize these attributes when a `Person` object is created. The `introduce()`\n",
    "method is used to print the person's name and age.\n",
    "\n",
    "Now, we can create instances of the `Person` class and pass values for the `name` and `age` attributes\n",
    "during object creation:\n",
    "\n",
    "```python\n",
    "person1 = Person(\"Alice\", 25)\n",
    "person2 = Person(\"Bob\", 30)\n",
    "\n",
    "person1.introduce()  # Output: My name is Alice and I am 25 years old.\n",
    "person2.introduce()  # Output: My name is Bob and I am 30 years old.\n",
    "```\n",
    "\n",
    "In this example, the `__init__()` method is responsible for setting the `name` and `age` attributes based\n",
    "on the values provided during object creation. It ensures that each `Person` object has its own distinct state."
   ]
  },
  {
   "cell_type": "code",
   "execution_count": null,
   "id": "91870ac4-3728-4d39-b3c8-1ddb9c81359b",
   "metadata": {},
   "outputs": [],
   "source": [
    "4> In object-oriented programming (OOP), the self parameter is used to refer to the instance of a class within\n",
    "its methods. It is a convention in Python (though the name can be different, but self is commonly used) to \n",
    "indicate that the first parameter of an instance method\n",
    "refers to the object itself.\n",
    "\n",
    "When you define a class and create objects from it, those objects can have their own unique states\n",
    "(attribute values) and behaviors (methods). The self parameter is used to access and modify the\n",
    "attributes and invoke methods of the specific object that the method is being called upon."
   ]
  },
  {
   "cell_type": "code",
   "execution_count": null,
   "id": "5966367f-6516-43ee-9a6d-a1d911e478f1",
   "metadata": {},
   "outputs": [],
   "source": [
    " 5>Inheritance is a fundamental concept in object-oriented programming (OOP) that allows a class to inherit \n",
    "    properties and behaviors from another class. The class from which inheritance is derived is called the\n",
    "    superclass or parent class, and the class that inherits from the superclass is called the subclass or \n",
    "    child class. The subclass inherits the attributes and methods of the superclass and can also define \n",
    "    its own unique attributes and methods.\n",
    "\n",
    "There are different types of inheritance in OOP. Let's explore each type and provide an example for each:\n",
    "\n",
    "Single Inheritance:\n",
    "Single inheritance occurs when a subclass inherits from a single superclass. It forms a parent-child \n",
    "relationship between the classes.\n",
    "\n",
    "Example:"
   ]
  },
  {
   "cell_type": "code",
   "execution_count": null,
   "id": "bbbc749a-f216-479a-be3c-29e63a20dd6e",
   "metadata": {},
   "outputs": [],
   "source": []
  },
  {
   "cell_type": "code",
   "execution_count": null,
   "id": "945e99d5-e270-4225-beeb-9df87a9ee2d3",
   "metadata": {},
   "outputs": [],
   "source": []
  }
 ],
 "metadata": {
  "kernelspec": {
   "display_name": "Python 3 (ipykernel)",
   "language": "python",
   "name": "python3"
  },
  "language_info": {
   "codemirror_mode": {
    "name": "ipython",
    "version": 3
   },
   "file_extension": ".py",
   "mimetype": "text/x-python",
   "name": "python",
   "nbconvert_exporter": "python",
   "pygments_lexer": "ipython3",
   "version": "3.10.8"
  }
 },
 "nbformat": 4,
 "nbformat_minor": 5
}
